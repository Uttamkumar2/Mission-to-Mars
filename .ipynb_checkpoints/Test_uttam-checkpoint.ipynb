{
 "cells": [
  {
   "cell_type": "code",
   "execution_count": 3,
   "id": "dde353d1",
   "metadata": {},
   "outputs": [],
   "source": [
    "# Import Splinter, BeautifulSoup, and Pandas\n",
    "from splinter import Browser\n",
    "from bs4 import BeautifulSoup as soup\n",
    "import pandas as pd\n",
    "from webdriver_manager.chrome import ChromeDriverManager"
   ]
  },
  {
   "cell_type": "code",
   "execution_count": 4,
   "id": "4fe69d58",
   "metadata": {},
   "outputs": [
    {
     "name": "stderr",
     "output_type": "stream",
     "text": [
      "\n",
      "\n",
      "====== WebDriver manager ======\n",
      "Current google-chrome version is 96.0.4664\n",
      "Get LATEST chromedriver version for 96.0.4664 google-chrome\n",
      "Driver [C:\\Users\\Uttam\\.wdm\\drivers\\chromedriver\\win32\\96.0.4664.45\\chromedriver.exe] found in cache\n"
     ]
    }
   ],
   "source": [
    "# Set the executable path and initialize Splinter\n",
    "executable_path = {'executable_path': ChromeDriverManager().install()}\n",
    "browser = Browser('chrome', **executable_path, headless=False)"
   ]
  },
  {
   "cell_type": "code",
   "execution_count": 5,
   "id": "fe7fc915",
   "metadata": {},
   "outputs": [],
   "source": [
    "# 1. Use browser to visit the URL \n",
    "url = 'https://marshemispheres.com/'\n",
    "\n",
    "browser.visit(url)\n",
    "results = browser.find_by_css('h3')"
   ]
  },
  {
   "cell_type": "code",
   "execution_count": 9,
   "id": "b88e901d",
   "metadata": {},
   "outputs": [
    {
     "data": {
      "text/plain": [
       "['Cerberus Hemisphere Enhanced',\n",
       " 'Schiaparelli Hemisphere Enhanced',\n",
       " 'Syrtis Major Hemisphere Enhanced',\n",
       " 'Valles Marineris Hemisphere Enhanced',\n",
       " '']"
      ]
     },
     "execution_count": 9,
     "metadata": {},
     "output_type": "execute_result"
    }
   ],
   "source": [
    "list=[]\n",
    "for x in results:\n",
    "    list.append(x.text)\n",
    "list"
   ]
  },
  {
   "cell_type": "code",
   "execution_count": 19,
   "id": "2db54f9c",
   "metadata": {
    "scrolled": false
   },
   "outputs": [
    {
     "name": "stdout",
     "output_type": "stream",
     "text": [
      "https://marshemispheres.com/images/f5e372a36edfa389625da6d0cc25d905_cerberus_enhanced.tif_full.jpg\n",
      "https://marshemispheres.com/images/3778f7b43bbbc89d6e3cfabb3613ba93_schiaparelli_enhanced.tif_full.jpg\n",
      "https://marshemispheres.com/images/555e6403a6ddd7ba16ddb0e471cadcf7_syrtis_major_enhanced.tif_full.jpg\n",
      "https://marshemispheres.com/images/b3c7c6c9138f57b4756be9b9c43e3a48_valles_marineris_enhanced.tif_full.jpg\n"
     ]
    }
   ],
   "source": [
    "hemisphare_img_url = {}\n",
    "\n",
    "for full_image_link in list[0:4]:\n",
    "    try:    \n",
    "        #print(full_image_link)\n",
    "        #print(\"------------------\")\n",
    "        #full_image_link.click()\n",
    "        \n",
    "        browser.links.find_by_partial_text(full_image_link).click()\n",
    "        \n",
    "        html_next = browser.html\n",
    "        \n",
    "        img_soup_lcl = soup(html_next, 'html.parser')\n",
    "        \n",
    "        img_url_rel = img_soup_lcl.find('img', class_='wide-image').get('src')\n",
    "        print(f'{url}{img_url_rel}')\n",
    "             \n",
    "       # hemisphare_img_url[\"Name\"].append(full_image_link)\n",
    "       # hemisphare_img_url[\"url\"].append(f'{url}{img_url_rel})\n",
    "        \n",
    "        #print(img_url_rel)\n",
    "        #print(\"------------------\")\n",
    "        browser.back()\n",
    "    except Exception as e:\n",
    "        print(e)\n"
   ]
  },
  {
   "cell_type": "code",
   "execution_count": null,
   "id": "5b5b6b80",
   "metadata": {},
   "outputs": [],
   "source": []
  },
  {
   "cell_type": "code",
   "execution_count": null,
   "id": "3542c516",
   "metadata": {},
   "outputs": [],
   "source": [
    "img_soup_tags = img_soup.find_all('img', class_='thumb')\n",
    "\n",
    "print(img_soup_tags)\n",
    "for all_img_soup in img_soup_tags:\n",
    "    #print(all_img_soup.get('img'))\n",
    "    browser.click()\n",
    "    html_next = browser.html\n",
    "    next_img = soup(html_next, 'html.parser')\n",
    "    img_src = next_img.find('img', class_='wide-image').get('src')\n",
    "    print(img_src)\n",
    "    browser.back()"
   ]
  },
  {
   "cell_type": "code",
   "execution_count": null,
   "id": "d571ac72",
   "metadata": {},
   "outputs": [],
   "source": [
    "#results = soup_obj.find_all('a', class_='itemLink product-item')\n"
   ]
  },
  {
   "cell_type": "code",
   "execution_count": null,
   "id": "98445b13",
   "metadata": {},
   "outputs": [],
   "source": [
    "#hemisphere_image_urls = []\n",
    "\n",
    "#full_image_elem = browser.find_by_tag('button')[1]\n",
    "#full_image_elem.click()\n",
    "\n",
    "#for result in results:\n",
    "#    print(result)\n",
    "    \n",
    "\n",
    "\n",
    "    \n",
    "    "
   ]
  },
  {
   "cell_type": "code",
   "execution_count": null,
   "id": "ab1c55d1",
   "metadata": {},
   "outputs": [],
   "source": [
    "# Parse the resulting html with soup\n",
    "#html = browser.html\n",
    "#img_soup = soup(html, 'html.parser')"
   ]
  },
  {
   "cell_type": "code",
   "execution_count": null,
   "id": "7cb182ee",
   "metadata": {},
   "outputs": [],
   "source": [
    "# find the relative image url\n",
    "#img_url_rel = img_soup.find('img', class_='wide-image').get('src')\n",
    "#img_url_rel"
   ]
  },
  {
   "cell_type": "code",
   "execution_count": null,
   "id": "f6937ca8",
   "metadata": {},
   "outputs": [],
   "source": []
  },
  {
   "cell_type": "code",
   "execution_count": null,
   "id": "b66db416",
   "metadata": {},
   "outputs": [],
   "source": []
  }
 ],
 "metadata": {
  "kernelspec": {
   "display_name": "PythonData",
   "language": "python",
   "name": "pythondata"
  },
  "language_info": {
   "codemirror_mode": {
    "name": "ipython",
    "version": 3
   },
   "file_extension": ".py",
   "mimetype": "text/x-python",
   "name": "python",
   "nbconvert_exporter": "python",
   "pygments_lexer": "ipython3",
   "version": "3.8.8"
  }
 },
 "nbformat": 4,
 "nbformat_minor": 5
}
